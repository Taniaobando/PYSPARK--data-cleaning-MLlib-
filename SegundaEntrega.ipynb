{
 "cells": [
  {
   "cell_type": "code",
   "execution_count": 1,
   "metadata": {},
   "outputs": [],
   "source": [
    "#----------------------------------------------------------------------------#\n",
    "#       Procesamiento de grandes volumenes de datos 2020-2                   #\n",
    "#               Proyecto 1 (data cleaning + MLlib)                           #\n",
    "#                       Alejandro Ayala Gil                                  #\n",
    "#                       Esteban Cardona Gil                                  #\n",
    "#                    Juan Camilo Gomez Muñoz                                 #\n",
    "#                        Julian Paredes C                                    #\n",
    "#                    Tania C. Obando Suárez                                  #\n",
    "#----------------------------------------------------------------------------#\n",
    "\n",
    "\n",
    "\n",
    "\n",
    "if('__name__' == '__main__'):\n",
    "    #Importando librerias\n",
    "    from pyspark import SparkConf, SparkContext\n",
    "    from pyspark.sql import SQLContext, Row\n",
    "    from pyspark.sql import SparkSession, DataFrameStatFunctions, DataFrameNaFunctions\n",
    "    from pyspark.sql.functions import *\n",
    "    #import seaborn as sns\n",
    "    import matplotlib.pyplot as plt\n",
    "    from pyspark.ml.classification import LogisticRegression, RandomForestClassifier\n",
    "    from pyspark.ml.classification import LinearSVC\n",
    "    from pyspark.ml.feature import VectorAssembler\n",
    "    from pyspark.ml.evaluation import BinaryClassificationEvaluator\n",
    "    from pyspark.ml.evaluation import MulticlassClassificationEvaluator\n",
    "    #Encabezado del dataframe\n",
    "    headings = ['school','sex','age','address','famsize','Pstatus','Medu','Fedu','Mjob',\n",
    "         'Fjob','reason','guardian','traveltime','studytime','failures','schoolsup',\n",
    "         'famsup','paid','activities','nursery','higher','internet','romantic',\n",
    "         'famrel','freetime','goout','Dalc','Walc','health','absences','G1','G2','G3']\n",
    "    spark = SparkSession.builder.appName(\"Student\").getOrCreate()\n",
    "\n",
    "    #Crear dataframe\n",
    "\n",
    "    esquema=spark.read.csv('student-por.csv',sep=';',header=True).schema\n",
    "    df=spark.readStream.csv('student-por.csv',sep=';',header=True,schema=esquema)\n",
    "    print(\"Hola mundo\")"
   ]
  },
  {
   "cell_type": "code",
   "execution_count": null,
   "metadata": {},
   "outputs": [],
   "source": []
  },
  {
   "cell_type": "code",
   "execution_count": null,
   "metadata": {},
   "outputs": [],
   "source": [
    "StructType(List(StructField(school,StringType,true),StructField(sex,StringType,true),StructField(age,StringType,true),StructField(address,StringType,true),StructField(famsize,StringType,true),StructField(Pstatus,StringType,true),StructField(Medu,StringType,true),StructField(Fedu,StringType,true),StructField(Mjob,StringType,true),StructField(Fjob,StringType,true),StructField(reason,StringType,true),StructField(guardian,StringType,true),StructField(traveltime,StringType,true),StructField(studytime,StringType,true),StructField(failures,StringType,true),StructField(schoolsup,StringType,true),StructField(famsup,StringType,true),StructField(paid,StringType,true),StructField(activities,StringType,true),StructField(nursery,StringType,true),StructField(higher,StringType,true),StructField(internet,StringType,true),StructField(romantic,StringType,true),StructField(famrel,StringType,true),StructField(freetime,StringType,true),StructField(goout,StringType,true),StructField(Dalc,StringType,true),StructField(Walc,StringType,true),StructField(health,StringType,true),StructField(absences,StringType,true),StructField(G1,StringType,true),StructField(G2,StringType,true),StructField(G3,StringType,true)))"
   ]
  }
 ],
 "metadata": {
  "kernelspec": {
   "display_name": "Python 3",
   "language": "python",
   "name": "python3"
  },
  "language_info": {
   "codemirror_mode": {
    "name": "ipython",
    "version": 3
   },
   "file_extension": ".py",
   "mimetype": "text/x-python",
   "name": "python",
   "nbconvert_exporter": "python",
   "pygments_lexer": "ipython3",
   "version": "3.7.4"
  }
 },
 "nbformat": 4,
 "nbformat_minor": 4
}
